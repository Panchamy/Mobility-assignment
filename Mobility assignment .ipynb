{
 "cells": [
  {
   "cell_type": "markdown",
   "id": "da86f7c0",
   "metadata": {},
   "source": [
    "## Instructions for the assignment\n",
    "- Add your code when there is the comment \"YOUR CODE HERE\".\n",
    "- Use Markdown cells to provide your answers (when applicable)\n",
    "- Make appropriate comments to your code\n",
    "- Create a repository in your personal GitHub for the assignment\n",
    "- Tag the commit that you want to submit as *Final submission*\n",
    "- Invite me to your respository. My GitHub name is *Panchamy*\n",
    "- No need to include the data in the GitHub repository\n",
    "- DO NOT forget to run the entire notebook before submitting.\n",
    "- Feel free to contact me if you have any questions.\n",
    "\n",
    "### Deadline for submission is 24th September before 23:59"
   ]
  },
  {
   "cell_type": "markdown",
   "id": "e6502517",
   "metadata": {},
   "source": [
    "# Google Mobility Data\n",
    "\n",
    "For this assignment, we will be working with the data from Google mobility report. You can find more information about this data [here](https://www.google.com/covid19/mobility/data_documentation.html?hl=en)"
   ]
  },
  {
   "cell_type": "markdown",
   "id": "56dd3fef",
   "metadata": {},
   "source": [
    "#### 1. Download mobility data for the whole world from this [link](https://www.google.com/covid19/mobility/), choose *Region CSVs*. From the downloaded data, pick a country to work with. Why did you choose this country?"
   ]
  },
  {
   "cell_type": "code",
   "execution_count": null,
   "id": "f88a3eed",
   "metadata": {},
   "outputs": [],
   "source": [
    "#YOUR CODE HERE "
   ]
  },
  {
   "cell_type": "markdown",
   "id": "44606741",
   "metadata": {},
   "source": [
    "#YOUR ANSWER HERE"
   ]
  },
  {
   "cell_type": "markdown",
   "id": "9d33a0a2",
   "metadata": {},
   "source": [
    "#### 2. Import the 2020 and 2021 data for this country as a pandas data frame and name it as `df_2020` and `df_2021`. Print the first 5 lines of `df_2020` and `df_2021`\n",
    "\n",
    "*Hint - Cheatsheet for pandas is available [here](https://pandas.pydata.org/Pandas_Cheat_Sheet.pdf)*"
   ]
  },
  {
   "cell_type": "code",
   "execution_count": null,
   "id": "c328f544",
   "metadata": {},
   "outputs": [],
   "source": [
    "#YOUR CODE HERE "
   ]
  },
  {
   "cell_type": "markdown",
   "id": "5d509f7f",
   "metadata": {},
   "source": [
    "#### 3. Combine the two dataframes `df_2020` and `df_2021` into a new dataframe `df`. Print the last 5 lines of `df`."
   ]
  },
  {
   "cell_type": "code",
   "execution_count": null,
   "id": "720edc0b",
   "metadata": {},
   "outputs": [],
   "source": [
    "#YOUR CODE HERE "
   ]
  },
  {
   "cell_type": "markdown",
   "id": "11b879ba",
   "metadata": {},
   "source": [
    "#### 4. `df` now contains mobility data for your selected country from 2020 and 2021. This table contains data of three different aggregation levels, namely national (`country_region`), provincial (`sub_region_1`), and city (`sub_region_2`). Separate these data into three different dataframes, namely `df_nation`, `df_province`, and `df_city`.  Print the first 5 lines of each of them.  \n",
    "\n",
    "Hint:\n",
    "- For the national data, `sub_region_1` and `sub_region_2` are NaN.\n",
    "- For the provincial data, `sub_region_2` is NaN.\n",
    "- For the city data, `country_region`, `sub_region_1` and `sub_region_2` are not NaN.\n",
    "- Note that some country in the mobility report might not have city or provincial information."
   ]
  },
  {
   "cell_type": "code",
   "execution_count": null,
   "id": "638b81bf",
   "metadata": {},
   "outputs": [],
   "source": [
    "#YOUR CODE HERE "
   ]
  },
  {
   "cell_type": "markdown",
   "id": "05c79a3b",
   "metadata": {},
   "source": [
    "#### 5. There are multiple activities in the mobility report such as workplaces, parks, transit stations, etc. For one of the activity, visualise the percentage changes from the baseline at the city-level OR province-level in a geographical map for a given day.\n",
    "\n",
    "*Hint: Here is an example of municipal boundaries of Netherlands. You can download the municipal boundaries of Netherlands from this [link](https://geodata.nationaalgeoregister.nl/cbsgebiedsindelingen/wfs?request=GetFeature&service=WFS&version=2.0.0&typeName=cbs_gemeente_2017_gegeneraliseerd&outputFormat=json) and here is some [code](https://www.cbs.nl/en-gb/onze-diensten/open-data/statline-as-open-data/cartography) to read this file as well.*\n",
    "\n",
    "If you cannot find the boundary of your selected country. Feel free to use Netherlands data for this question.\n",
    "\n",
    "DO NOT forget to label the appropriate axes for the visualisations"
   ]
  },
  {
   "cell_type": "code",
   "execution_count": null,
   "id": "d64437c1",
   "metadata": {},
   "outputs": [],
   "source": [
    "#YOUR CODE HERE "
   ]
  },
  {
   "cell_type": "markdown",
   "id": "d8cdf5fd",
   "metadata": {},
   "source": [
    "#### 6. Create a new dataframe that only contains data from the *province* with the largest percentage changes in your chosen activity from *Question 5*, which you found in the previous question and name it as `df_province_largest`. Print the first 5 lines of `df_province_largest`"
   ]
  },
  {
   "cell_type": "code",
   "execution_count": null,
   "id": "cc37ca6c",
   "metadata": {},
   "outputs": [],
   "source": [
    "#YOUR CODE HERE "
   ]
  },
  {
   "cell_type": "code",
   "execution_count": null,
   "id": "590855b5",
   "metadata": {},
   "outputs": [],
   "source": [
    "# Execute the cell with the following command to visualize the results\n",
    "\n",
    "#Your chosen activity. eg: 'workplaces_percent_change_from_baseline'\n",
    "activity = #YOUR CODE HERE \n",
    "\n",
    "df_province_largest.plot('date', activity)\n",
    "\n",
    "df_province_largest.resample('7D', on='date2').sum()[activity].plot()"
   ]
  },
  {
   "cell_type": "markdown",
   "id": "8a051438",
   "metadata": {},
   "source": [
    "#### 7. Compare the results above with the results in the google mobility report pdf of the province of your selected country. Discuss the differences and similarities. Please save the mobility report pdf that you used to compare the results with in your GitHub as well! An example mobility report pdf can be found [here](https://www.gstatic.com/covid19/mobility/2021-09-01_AW_Mobility_Report_en.pdf)"
   ]
  },
  {
   "cell_type": "code",
   "execution_count": null,
   "id": "7d0067cb",
   "metadata": {},
   "outputs": [],
   "source": [
    "#YOUR CODE HERE "
   ]
  },
  {
   "cell_type": "markdown",
   "id": "ecc25b5c",
   "metadata": {},
   "source": [
    "# BONUS"
   ]
  },
  {
   "cell_type": "markdown",
   "id": "54518e14",
   "metadata": {},
   "source": [
    "#### Animate the percentage change over different days for the mobility activity that you chose. This is a continuation of *question 5*. \n",
    "\n",
    "This is a bonus question. So feel free to skip if you do not have sufficient time"
   ]
  },
  {
   "cell_type": "code",
   "execution_count": null,
   "id": "b99f5545",
   "metadata": {},
   "outputs": [],
   "source": []
  }
 ],
 "metadata": {
  "kernelspec": {
   "display_name": "Python 3 (ipykernel)",
   "language": "python",
   "name": "python3"
  },
  "language_info": {
   "codemirror_mode": {
    "name": "ipython",
    "version": 3
   },
   "file_extension": ".py",
   "mimetype": "text/x-python",
   "name": "python",
   "nbconvert_exporter": "python",
   "pygments_lexer": "ipython3",
   "version": "3.7.11"
  }
 },
 "nbformat": 4,
 "nbformat_minor": 5
}
